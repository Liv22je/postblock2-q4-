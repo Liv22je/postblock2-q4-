{
  "nbformat": 4,
  "nbformat_minor": 0,
  "metadata": {
    "colab": {
      "provenance": [],
      "authorship_tag": "ABX9TyOLm4XXLHbtk9+XUlShe3Ma",
      "include_colab_link": true
    },
    "kernelspec": {
      "name": "python3",
      "display_name": "Python 3"
    },
    "language_info": {
      "name": "python"
    }
  },
  "cells": [
    {
      "cell_type": "markdown",
      "metadata": {
        "id": "view-in-github",
        "colab_type": "text"
      },
      "source": [
        "<a href=\"https://colab.research.google.com/github/Liv22je/postblock2-q4-/blob/main/postblock3_q4_d.ipynb\" target=\"_parent\"><img src=\"https://colab.research.google.com/assets/colab-badge.svg\" alt=\"Open In Colab\"/></a>"
      ]
    },
    {
      "cell_type": "code",
      "execution_count": 1,
      "metadata": {
        "colab": {
          "base_uri": "https://localhost:8080/"
        },
        "id": "NU5u0g_EZqsF",
        "outputId": "07aa77e9-b1b3-40aa-d62b-5675f72139b0"
      },
      "outputs": [
        {
          "output_type": "stream",
          "name": "stdout",
          "text": [
            "Currently executing on the driver node.\n"
          ]
        }
      ],
      "source": [
        "from pyspark import SparkContext\n",
        "\n",
        "# Initialize Spark Context\n",
        "sc = SparkContext.getOrCreate()\n",
        "\n",
        "# Check if current environment is the driver node\n",
        "if sc.master == 'local' or sc.getConf().get(\"spark.submit.deployMode\") == \"client\":\n",
        "    print(\"Currently executing on the driver node.\")\n",
        "else:\n",
        "    print(\"Currently executing on a worker node.\")\n",
        ""
      ]
    }
  ]
}